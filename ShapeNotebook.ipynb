{
 "cells": [
  {
   "cell_type": "markdown",
   "id": "4dfc25d6",
   "metadata": {},
   "source": [
    "# FINAL PROJECT SHAPES"
   ]
  },
  {
   "cell_type": "code",
   "execution_count": 17,
   "id": "8bfdf3a6",
   "metadata": {},
   "outputs": [],
   "source": [
    "# imports\n",
    "from PIL import Image\n",
    "import os\n",
    "import glob\n",
    "from skimage.metrics import structural_similarity as ssim\n",
    "import matplotlib.pyplot as plt\n",
    "import cv2\n",
    "import numpy as np"
   ]
  },
  {
   "cell_type": "markdown",
   "id": "3c86302a",
   "metadata": {},
   "source": [
    "# Preparing the images for the assimilation phase to the algorithm"
   ]
  },
  {
   "cell_type": "markdown",
   "id": "559f176f",
   "metadata": {},
   "source": [
    "### At this stage we process all the images according to the correct sizes and crop them in order to implement the SSIM algorithm"
   ]
  },
  {
   "cell_type": "code",
   "execution_count": 2,
   "id": "960e3927",
   "metadata": {},
   "outputs": [],
   "source": [
    "#Function that making the image only with the colors black and white\n",
    "#input: image(matrix)\n",
    "#output: white_black image(matrix)\n",
    "def makingImageBlackAndWhite(image_obj, threshold_value = 127):\n",
    "    (thresh, BnW_image_obj) = cv2.threshold(image_obj, threshold_value, 255, cv2.THRESH_BINARY)\n",
    "    return BnW_image_obj"
   ]
  },
  {
   "cell_type": "code",
   "execution_count": 3,
   "id": "8e9d363d",
   "metadata": {},
   "outputs": [],
   "source": [
    "#This function was created to find the best values for the crop, for avery image we will find the min_max values to cut it.\n",
    "#input(image(matrix),int flag)\n",
    "#output image after crop.\n",
    "def minmax(image_path,flag):\n",
    "    image_obj = Image.open(image_path)\n",
    "    image_obj.load()\n",
    "    if flag == 1: # flag means if we are in the original data we dont need to crop the images.\n",
    "        image_obj = image_obj.crop((0, 219, 1365, 860))\n",
    "    image_data = np.asarray(image_obj)\n",
    "    image_data = makingImageBlackAndWhite(image_data)\n",
    "    image_data_inv = 255 - image_data\n",
    "    image_data_bw = image_data_inv.max(axis=2)\n",
    "    non_empty_columns = np.where(image_data_bw.max(axis=0)>0)[0]\n",
    "    non_empty_rows = np.where(image_data_bw.max(axis=1)>0)[0]\n",
    "    if len(non_empty_columns) == 0 or len(non_empty_rows) == 0:\n",
    "        cropBox = (0, image_data.shape[0]-1, 0, image_data.shape[1]-1)\n",
    "    else:\n",
    "        cropBox = (min(non_empty_rows), max(non_empty_rows), min(non_empty_columns), max(non_empty_columns))\n",
    "    image_data_new = image_data[cropBox[0]:cropBox[1]+1, cropBox[2]:cropBox[3]+1 , :]\n",
    "    new_image = Image.fromarray(image_data_new)\n",
    "    return new_image"
   ]
  },
  {
   "cell_type": "markdown",
   "id": "e8b7bd34",
   "metadata": {},
   "source": [
    "# use this code when getting new images / working with new machine:"
   ]
  },
  {
   "cell_type": "code",
   "execution_count": 4,
   "id": "9e24b946",
   "metadata": {},
   "outputs": [],
   "source": [
    "# # Path to the root folder\n",
    "# root_folder = 'C:\\\\Users\\\\idank\\\\final_project\\\\TestImages'\n",
    "\n",
    "# # Loop over each folder in the root folder that has subfolders\n",
    "# for entry in os.scandir(root_folder):\n",
    "#     if entry.is_dir():\n",
    "#         # Check if the current folder contains any subfolders\n",
    "#         subfolders = [subentry for subentry in os.scandir(entry.path) if subentry.is_dir()]\n",
    "#         if subfolders:\n",
    "#             # Loop over each subfolder that has a 'SimpleTest' subfolder\n",
    "#             for subentry in subfolders:\n",
    "#                 simple_test_folder = os.path.join(subentry.path, subentry.path)\n",
    "\n",
    "#                 # Create the output folder in the parent directory of the 'SimpleTest' folder\n",
    "#                 output_folder = os.path.join(os.path.dirname(simple_test_folder), subentry.path+\"Crop\")\n",
    "#                 if not os.path.exists(output_folder):\n",
    "#                     os.makedirs(output_folder)\n",
    "\n",
    "#                 # Find all PNG files in the 'SimpleTest' folder\n",
    "#                 png_files = sorted(glob.glob(os.path.join(simple_test_folder, '*.png')))\n",
    "\n",
    "#                 # Loop over each PNG file and crop it\n",
    "#                 for i, input_path in enumerate(png_files):\n",
    "#                     #print(input_path)\n",
    "#                     new_image = minmax(input_path,1)\n",
    "#                     output_path = os.path.join(output_folder, os.path.basename(input_path))\n",
    "#                     new_image.save(output_path)"
   ]
  },
  {
   "cell_type": "code",
   "execution_count": null,
   "id": "46410772",
   "metadata": {},
   "outputs": [],
   "source": []
  },
  {
   "cell_type": "markdown",
   "id": "13d72788",
   "metadata": {},
   "source": [
    "# Handling the original images"
   ]
  },
  {
   "cell_type": "markdown",
   "id": "aafe47bd",
   "metadata": {},
   "source": [
    "# use this code when getting new images / working with new machine:"
   ]
  },
  {
   "cell_type": "markdown",
   "id": "ba89b9eb",
   "metadata": {},
   "source": [
    "#### Insert the OriginalImage Folder into the Root Folder of the project "
   ]
  },
  {
   "cell_type": "code",
   "execution_count": 5,
   "id": "0018d1ed",
   "metadata": {},
   "outputs": [],
   "source": [
    "# # Path to the root folder\n",
    "# root_folder = 'C:\\\\Users\\\\idank\\\\final_project'\n",
    "# input_folder = os.path.join(root_folder, 'OriginalImages')\n",
    "# output_folder = os.path.join(root_folder, 'OriginalImagesCrop')\n",
    "\n",
    "# if not os.path.exists(output_folder):\n",
    "#     os.makedirs(output_folder)\n",
    "    \n",
    "# png_files = sorted(glob.glob(os.path.join(input_folder, '*.jpg')))\n",
    "\n",
    "# for i, input_path in enumerate(png_files):\n",
    "#     new_image = minmax(input_path,0)\n",
    "#     output_path = os.path.join(output_folder, os.path.basename(input_path))\n",
    "#     new_image.save(output_path)"
   ]
  },
  {
   "cell_type": "code",
   "execution_count": 6,
   "id": "d8e4029d",
   "metadata": {},
   "outputs": [],
   "source": [
    "# The function makin resize to the image by the length and the width that we are getting and maintains the relation between them.\n",
    "# The size of the new image determined by the smaller size between the length and the width and by the relation between the sizes of the image.\n",
    "#input: (image(matrix),int length, int width)\n",
    "#output: resized_image(matrix)\n",
    "def resizeImage(image_obj,length,width):\n",
    "    length_image = np.size(image_obj,0)\n",
    "    width_image = np.size(image_obj,1)\n",
    "    relation = max(length_image,width_image) / min(length_image,width_image)\n",
    "    if(length <= width):\n",
    "        if(length_image <= width_image):\n",
    "            dim = (int(relation * length), length)\n",
    "        else:\n",
    "            dim = (int(1 / relation * length), length)\n",
    "        \n",
    "        resized_image= cv2.resize(image_obj, dim, interpolation = cv2.INTER_AREA)\n",
    "    else:\n",
    "        if(width_image <= length_image):\n",
    "            dim = (width, int(width * relation))\n",
    "        else:\n",
    "            dim = (width,int(1 / relation *width))\n",
    "        resized_image = cv2.resize(image_obj, dim, interpolation = cv2.INTER_AREA)\n",
    "    return resized_image"
   ]
  },
  {
   "cell_type": "code",
   "execution_count": 7,
   "id": "d6b076f9",
   "metadata": {},
   "outputs": [],
   "source": [
    "def image_resize_keep_ratio(image, width = None, height = None, inter = cv2.INTER_AREA):\n",
    "    # initialize the dimensions of the image to be resized and\n",
    "    # grab the image size\n",
    "    dim = None\n",
    "    (h, w) = image.shape\n",
    "\n",
    "    # if both the width and height are None, then return the\n",
    "    # original image\n",
    "    if width is None and height is None:\n",
    "        return image\n",
    "\n",
    "    # check to see if the width is None\n",
    "    if width is None:\n",
    "        # calculate the ratio of the height and construct the\n",
    "        # dimensions\n",
    "        r = height / float(h)\n",
    "        dim = (int(w * r), height)\n",
    "\n",
    "    # otherwise, the height is None\n",
    "    else:\n",
    "        # calculate the ratio of the width and construct the\n",
    "        # dimensions\n",
    "        r = width / float(w)\n",
    "        dim = (width, int(h * r))\n",
    "\n",
    "    # resize the image\n",
    "    resized = cv2.resize(image, dim, interpolation = inter)\n",
    "\n",
    "    # return the resized image\n",
    "    return resized\n",
    "\n",
    "# # tests:\n",
    "# img_path = r\"C:\\Users\\idank\\Desktop\\profile.jfif\"\n",
    "# src_img_obj = cv2.imread(img_path, 0)\n",
    "# src_img_obj_forced_resized = cv2.resize(src_img_obj, (200,300))\n",
    "# print(src_img_obj_forced_resized.shape)\n",
    "# resized = image_resize_keep_ratio(src_img_obj_forced_resized, width = 200, height = None, inter = cv2.INTER_AREA)\n",
    "# print(resized.shape)\n",
    "# plt.imshow(resized)\n",
    "# plt.show()\n",
    "\n",
    "# img_path2 = r\"C:\\Users\\idank\\Desktop\\profile_resized.jpg\"\n",
    "# cv2.imwrite(img_path2, resized)"
   ]
  },
  {
   "cell_type": "code",
   "execution_count": null,
   "id": "1d59492e",
   "metadata": {},
   "outputs": [],
   "source": []
  },
  {
   "cell_type": "markdown",
   "id": "8e8021c3",
   "metadata": {},
   "source": [
    "# padding"
   ]
  },
  {
   "cell_type": "code",
   "execution_count": 8,
   "id": "f601b5b4",
   "metadata": {},
   "outputs": [],
   "source": [
    "# padding_image function:\n",
    "# input: img_path - path to img (change to img obj of cv2.imread(img_path)?\n",
    "#        top, bottom, left, right - int type, how much padding from each side\n",
    "# retutn: img obj of cv2.imread(img_path) with padding with white color \n",
    "\n",
    "def padding_image(top, bottom, left, right, img_path = None, img_obj = None):\n",
    "    \n",
    "#     BLACK = [0,0,0]\n",
    "    WHITE = [255,255,255]\n",
    "    \n",
    "    if img_obj is None:\n",
    "        img_obj = cv2.imread(img_path)\n",
    "        \n",
    "    img_padd = cv2.copyMakeBorder(img_obj, top, bottom, left, right,cv2.BORDER_CONSTANT,value=WHITE)\n",
    "#     plt.imshow(img_padd)\n",
    "#     plt.show()\n",
    "\n",
    "#     change original file\n",
    "#     cv2.imwrite(img_path, img_padd)\n",
    "    return img_padd\n",
    "    \n",
    "    "
   ]
  },
  {
   "cell_type": "markdown",
   "id": "b2e31b55",
   "metadata": {},
   "source": [
    "# SSIM"
   ]
  },
  {
   "cell_type": "code",
   "execution_count": 9,
   "id": "31d3e08c",
   "metadata": {},
   "outputs": [],
   "source": [
    "# images variables are images objects:\n",
    "def calculate_ssim(img1_obj, img2_obj):\n",
    "    # Load images and convert to grayscale\n",
    "    img1 = np.array(img1_obj)\n",
    "    img2 = np.array(img2_obj)\n",
    "\n",
    "    # Calculate SSIM score\n",
    "    ssim_score = ssim(img1, img2)\n",
    "\n",
    "    return ssim_score"
   ]
  },
  {
   "cell_type": "code",
   "execution_count": 10,
   "id": "f8368fb2",
   "metadata": {},
   "outputs": [],
   "source": [
    "# # images variables are images paths:\n",
    "# def calculate_ssim(img1_path, img2_path):\n",
    "#     # Load images and convert to grayscale\n",
    "#     img1 = np.array(Image.open(img1_path).convert('L'))\n",
    "#     img2 = np.array(Image.open(img2_path).convert('L'))\n",
    "\n",
    "#     # Calculate SSIM score\n",
    "#     ssim_score = ssim(img1, img2)\n",
    "\n",
    "#     return ssim_score"
   ]
  },
  {
   "cell_type": "code",
   "execution_count": 11,
   "id": "d7958e7f",
   "metadata": {},
   "outputs": [],
   "source": [
    "# test:\n",
    "\n",
    "# img1_path = 'C:\\\\Users\\\\koazg\\\\OneDrive\\\\Desktop\\\\FinalProject1\\\\11030\\\\SimpleTestCrop\\\\4.png'\n",
    "# img2_path = 'C:\\\\Users\\\\koazg\\\\OneDrive\\\\Desktop\\\\FinalProject1\\\\OriginalImagesCrop\\\\4.jpg'\n",
    "\n",
    "# ssim_score = calculate_ssim(img1_path, img2_path)\n",
    "\n",
    "# print('SSIM score:', ssim_score)"
   ]
  },
  {
   "cell_type": "markdown",
   "id": "766c5859",
   "metadata": {},
   "source": [
    "# ssim with image ratio distortion"
   ]
  },
  {
   "cell_type": "code",
   "execution_count": 12,
   "id": "97b76dcb",
   "metadata": {},
   "outputs": [],
   "source": [
    "def bruteForceImagesScore(src_img_path, hand_copy_img_path, resize_src_to_copy=False):\n",
    "    src_img_obj = cv2.imread(src_img_path, 0)\n",
    "    hand_copy_img_obj = cv2.imread(hand_copy_img_path, 0)\n",
    "    \n",
    "    src_img_shape = src_img_obj.shape\n",
    "    hand_copy_img_shape = hand_copy_img_obj.shape\n",
    "    \n",
    "    if resize_src_to_copy:\n",
    "        width = hand_copy_img_shape[1]\n",
    "        height = hand_copy_img_shape[0]\n",
    "        src_img_obj_resized = cv2.resize(src_img_obj, (width, height))\n",
    "        img1_obj = src_img_obj_resized\n",
    "        img2_obj = hand_copy_img_obj        \n",
    "    else:\n",
    "        width = src_img_shape[1]\n",
    "        height = src_img_shape[0]\n",
    "        hand_copy_img_obj_resized = cv2.resize(hand_copy_img_obj, (width, height))\n",
    "        img1_obj = src_img_obj\n",
    "        img2_obj = hand_copy_img_obj_resized\n",
    "    \n",
    "    plt.imshow(img1_obj, cmap='gray', vmin=0, vmax=255)\n",
    "    plt.show()\n",
    "    plt.imshow(img2_obj, cmap='gray', vmin=0, vmax=255)\n",
    "    plt.show()\n",
    "    return calculate_ssim(img1_obj, img2_obj)"
   ]
  },
  {
   "cell_type": "code",
   "execution_count": 13,
   "id": "69a7836e",
   "metadata": {},
   "outputs": [],
   "source": [
    "# # test:    \n",
    "# img_src_path = r\"C:\\Users\\idank\\final_project\\OriginalImagesCrop\\2.jpg\"\n",
    "# img_test_path = r\"C:\\Users\\idank\\final_project\\TestImages\\11030\\SimpleTestCrop\\2.png\"\n",
    "# ssim1 = bruteForceImagesScore(src_img_path=img_src_path, hand_copy_img_path=img_test_path, resize_src_to_copy=False)\n",
    "# print(ssim1)\n",
    "# ssim2 = bruteForceImagesScore(src_img_path=img_src_path, hand_copy_img_path=img_test_path, resize_src_to_copy=True)\n",
    "# print(ssim2)"
   ]
  },
  {
   "cell_type": "markdown",
   "id": "66bc6572",
   "metadata": {},
   "source": [
    "# ssim with paddin movements"
   ]
  },
  {
   "cell_type": "code",
   "execution_count": 14,
   "id": "7e8e0172",
   "metadata": {},
   "outputs": [],
   "source": [
    "def new_ssim(src_img_path, hand_copy_img_path, width_jump = 1, height_jump = 1, plots = False):\n",
    "    src_img_obj = cv2.imread(src_img_path, 0)\n",
    "    hand_copy_img_obj = cv2.imread(hand_copy_img_path, 0)\n",
    "    \n",
    "    src_img_shape = src_img_obj.shape\n",
    "    hand_copy_img_shape = hand_copy_img_obj.shape\n",
    "    \n",
    "    CONSTANT_PADDING = 5\n",
    "    src_img_obj_padd = padding_image(top = CONSTANT_PADDING, bottom = CONSTANT_PADDING, left = CONSTANT_PADDING, right = CONSTANT_PADDING, img_path = None, img_obj = src_img_obj)\n",
    "    src_img_obj_padd_shape = src_img_obj_padd.shape\n",
    "    \n",
    "    src_img_shape = list(src_img_shape)\n",
    "    src_img_obj_padd_shape = list(src_img_obj_padd_shape)\n",
    "    \n",
    "    hand_copy_img_obj_resized_ratio = image_resize_keep_ratio(hand_copy_img_obj, width = src_img_shape[1], height = None, inter = cv2.INTER_AREA)\n",
    "    if (hand_copy_img_obj_resized_ratio.shape[0] > src_img_shape[0] or hand_copy_img_obj_resized_ratio.shape[1] > src_img_shape[1]):\n",
    "        hand_copy_img_obj_resized_ratio = image_resize_keep_ratio(hand_copy_img_obj, width = None, height = src_img_shape[0], inter = cv2.INTER_AREA)\n",
    "    hand_copy_img_obj_resized_ratio_shape = list(hand_copy_img_obj_resized_ratio.shape)\n",
    "    \n",
    "#     make sure ink is black, background is white:\n",
    "#     hand_copy_img_obj_resized_ratio = makingImageBlackAndWhite(hand_copy_img_obj_resized_ratio, threshold_value = 254)\n",
    "    image_as_array = np.array(hand_copy_img_obj_resized_ratio)\n",
    "    image_as_array[image_as_array > 254] = 255\n",
    "    image_as_array[image_as_array <= 254] = 0\n",
    "    hand_copy_img_obj_resized_ratio = image_as_array\n",
    "\n",
    "    \n",
    "    shape_diff = [src_img_obj_padd_shape[0] - hand_copy_img_obj_resized_ratio_shape[0], src_img_obj_padd_shape[1] - hand_copy_img_obj_resized_ratio_shape[1]]\n",
    "    height_space = shape_diff[0]\n",
    "    width_space = shape_diff[1]\n",
    "#     print(\"height_space:\" + str(height_space))\n",
    "#     print(\"width_space:\" + str(width_space))\n",
    "    \n",
    "    best_ssim = -1\n",
    "    \n",
    "\n",
    "    for left_padd in range(0, width_space+1, width_jump):\n",
    "        for top_padd in range(0, height_space+1, width_jump):\n",
    "            top = top_padd\n",
    "            bottom = height_space-top_padd\n",
    "            left = left_padd\n",
    "            right = width_space-left_padd\n",
    "            hand_copy_img_obj_resized_ratio_padd = padding_image(top, bottom, left, right, img_path = None, img_obj = hand_copy_img_obj_resized_ratio)\n",
    "            ssim_score = calculate_ssim(src_img_obj_padd, hand_copy_img_obj_resized_ratio_padd)\n",
    "            if plots:\n",
    "                f, axarr = plt.subplots(1,3)\n",
    "                axarr[0].imshow(src_img_obj_padd, cmap='gray', vmin=0, vmax=255)\n",
    "                axarr[1].imshow(hand_copy_img_obj_resized_ratio_padd, cmap='gray', vmin=0, vmax=255)\n",
    "                axarr[2].imshow(cv2.addWeighted(src_img_obj_padd,0.5,hand_copy_img_obj_resized_ratio_padd,0.5,0))\n",
    "                plt.show()\n",
    "            print(\"ssim_score: \" + str(ssim_score))\n",
    "            \n",
    "            if ssim_score > best_ssim:\n",
    "                best_ssim = ssim_score\n",
    "                best_padding = (top, bottom, left, right)\n",
    "                best_hand_copy_img_obj_resized_ratio_padd = hand_copy_img_obj_resized_ratio_padd\n",
    "    \n",
    "    return src_img_obj_padd, best_ssim, best_padding, best_hand_copy_img_obj_resized_ratio_padd\n",
    "            \n",
    "        "
   ]
  },
  {
   "cell_type": "code",
   "execution_count": 13,
   "id": "4751979f",
   "metadata": {
    "scrolled": true
   },
   "outputs": [
    {
     "data": {
      "image/png": "[encoded data removed]",
      "text/plain": [
       "<Figure size 432x288 with 3 Axes>"
      ]
     },
     "metadata": {
      "needs_background": "light"
     },
     "output_type": "display_data"
    },
    {
     "name": "stdout",
     "output_type": "stream",
     "text": [
      "ssim_score: 0.8855377979999123\n"
     ]
    },
    {
     "data": {
      "image/png": "[encoded data removed]",
      "text/plain": [
       "<Figure size 432x288 with 3 Axes>"
      ]
     },
     "metadata": {
      "needs_background": "light"
     },
     "output_type": "display_data"
    },
    {
     "name": "stdout",
     "output_type": "stream",
     "text": [
      "ssim_score: 0.893915478944019\n"
     ]
    },
    {
     "data": {
      "image/png": "[encoded data removed]",
      "text/plain": [
       "<Figure size 432x288 with 3 Axes>"
      ]
     },
     "metadata": {
      "needs_background": "light"
     },
     "output_type": "display_data"
    },
    {
     "name": "stdout",
     "output_type": "stream",
     "text": [
      "ssim_score: 0.8898504805763731\n"
     ]
    },
    {
     "data": {
      "image/png": "[encoded data removed]",
      "text/plain": [
       "<Figure size 432x288 with 3 Axes>"
      ]
     },
     "metadata": {
      "needs_background": "light"
     },
     "output_type": "display_data"
    },
    {
     "name": "stdout",
     "output_type": "stream",
     "text": [
      "ssim_score: 0.889559162076715\n"
     ]
    },
    {
     "data": {
      "image/png": "[encoded data removed]",
      "text/plain": [
       "<Figure size 432x288 with 3 Axes>"
      ]
     },
     "metadata": {
      "needs_background": "light"
     },
     "output_type": "display_data"
    },
    {
     "name": "stdout",
     "output_type": "stream",
     "text": [
      "ssim_score: 0.8891922292926848\n"
     ]
    },
    {
     "data": {
      "image/png": "[encoded data removed]",
      "text/plain": [
       "<Figure size 432x288 with 3 Axes>"
      ]
     },
     "metadata": {
      "needs_background": "light"
     },
     "output_type": "display_data"
    },
    {
     "name": "stdout",
     "output_type": "stream",
     "text": [
      "ssim_score: 0.8880068302264821\n"
     ]
    },
    {
     "data": {
      "image/png": "[encoded data removed]",
      "text/plain": [
       "<Figure size 432x288 with 3 Axes>"
      ]
     },
     "metadata": {
      "needs_background": "light"
     },
     "output_type": "display_data"
    },
    {
     "name": "stdout",
     "output_type": "stream",
     "text": [
      "ssim_score: 0.8876446797202716\n"
     ]
    },
    {
     "data": {
      "image/png": "[encoded data removed]",
      "text/plain": [
       "<Figure size 432x288 with 3 Axes>"
      ]
     },
     "metadata": {
      "needs_background": "light"
     },
     "output_type": "display_data"
    },
    {
     "name": "stdout",
     "output_type": "stream",
     "text": [
      "ssim_score: 0.8875936545482611\n"
     ]
    },
    {
     "data": {
      "image/png": "[encoded data removed]",
      "text/plain": [
       "<Figure size 432x288 with 3 Axes>"
      ]
     },
     "metadata": {
      "needs_background": "light"
     },
     "output_type": "display_data"
    },
    {
     "name": "stdout",
     "output_type": "stream",
     "text": [
      "ssim_score: 0.8865926762170174\n"
     ]
    },
    {
     "data": {
      "image/png": "[encoded data removed]",
      "text/plain": [
       "<Figure size 432x288 with 3 Axes>"
      ]
     },
     "metadata": {
      "needs_background": "light"
     },
     "output_type": "display_data"
    },
    {
     "name": "stdout",
     "output_type": "stream",
     "text": [
      "ssim_score: 0.8858746525452134\n",
      "\n",
      "\n",
      "\n",
      "best_ssim: 0.893915478944019\n",
      "best_padding: (0, 10, 50, 400)\n"
     ]
    },
    {
     "data": {
      "image/png": "[encoded data removed]",
      "text/plain": [
       "<Figure size 432x288 with 3 Axes>"
      ]
     },
     "metadata": {
      "needs_background": "light"
     },
     "output_type": "display_data"
    }
   ],
   "source": [
    "img_test_path = r\"C:\\Users\\idank\\final_project\\TestImages\\11030\\SimpleTestCrop\\2.png\"\n",
    "img_src_path = r\"C:\\Users\\idank\\final_project\\OriginalImagesCrop\\2.jpg\"\n",
    "\n",
    "# img_path = r\"C:\\Users\\idank\\Desktop\\profile.jfif\"\n",
    "# img_path2 = r\"C:\\Users\\idank\\Desktop\\profile_resized.jpg\"\n",
    "src_img_obj_padd, best_ssim, best_padding, best_hand_copy_img_obj_resized_ratio_padd = new_ssim(src_img_path=img_src_path, hand_copy_img_path=img_test_path, width_jump = 50, height_jump = 5, plots=True)\n",
    "\n",
    "img1 = np.array(src_img_obj_padd)\n",
    "img2 = np.array(best_hand_copy_img_obj_resized_ratio_padd)\n",
    "combine_img = img1 > img2\n",
    "\n",
    "print()\n",
    "print()\n",
    "print()\n",
    "print(\"best_ssim: \" + str(best_ssim))\n",
    "print(\"best_padding: \" + str(best_padding))\n",
    "f, axarr = plt.subplots(1,3)\n",
    "axarr[0].imshow(src_img_obj_padd, cmap='gray', vmin=0, vmax=255)\n",
    "axarr[1].imshow(best_hand_copy_img_obj_resized_ratio_padd, cmap='gray', vmin=0, vmax=255)\n",
    "axarr[2].imshow(cv2.addWeighted(src_img_obj_padd,0.2,best_hand_copy_img_obj_resized_ratio_padd,0.8,0))\n",
    "\n",
    "plt.show()"
   ]
  },
  {
   "cell_type": "code",
   "execution_count": 112,
   "id": "ea17a9da",
   "metadata": {
    "scrolled": true
   },
   "outputs": [
    {
     "name": "stdout",
     "output_type": "stream",
     "text": [
      "ssim_score: 0.8855377979999123\n",
      "ssim_score: 0.8853220438890917\n",
      "ssim_score: 0.8850676902742965\n",
      "ssim_score: 0.886197677701494\n",
      "ssim_score: 0.8861255026319477\n",
      "ssim_score: 0.8861036239391651\n",
      "ssim_score: 0.8878752412984834\n",
      "ssim_score: 0.8878932030120755\n",
      "ssim_score: 0.8880656362651578\n",
      "ssim_score: 0.8894449680642714\n",
      "ssim_score: 0.8896654660381614\n",
      "ssim_score: 0.8900826216424713\n",
      "ssim_score: 0.8910019010003951\n",
      "ssim_score: 0.8911793925591966\n",
      "ssim_score: 0.8917134105771114\n",
      "ssim_score: 0.8923258214440922\n",
      "ssim_score: 0.8924161042490383\n",
      "ssim_score: 0.892658992022208\n",
      "ssim_score: 0.8927176287098051\n",
      "ssim_score: 0.8927026465770023\n",
      "ssim_score: 0.8930369845973092\n",
      "ssim_score: 0.8931804777376032\n",
      "ssim_score: 0.893288470665709\n",
      "ssim_score: 0.8938371323066632\n",
      "ssim_score: 0.8936591293839804\n",
      "ssim_score: 0.8939108808113563\n",
      "ssim_score: 0.8944357355867993\n",
      "ssim_score: 0.8938216604122254\n",
      "ssim_score: 0.894132000721971\n",
      "ssim_score: 0.894823695224189\n",
      "ssim_score: 0.893915478944019\n",
      "ssim_score: 0.8942709882559812\n",
      "ssim_score: 0.8946971704189877\n",
      "ssim_score: 0.8941863969290711\n",
      "ssim_score: 0.894290555341776\n",
      "ssim_score: 0.8949892798501415\n",
      "ssim_score: 0.8939315494209114\n",
      "ssim_score: 0.8942323089503883\n",
      "ssim_score: 0.894979246592255\n",
      "ssim_score: 0.8932086378495602\n",
      "ssim_score: 0.8935155893637398\n",
      "ssim_score: 0.8942561361513924\n",
      "ssim_score: 0.8923208076303567\n",
      "ssim_score: 0.8926312052649423\n",
      "ssim_score: 0.8932299664510088\n",
      "ssim_score: 0.8917936721887023\n",
      "ssim_score: 0.8919164321209888\n",
      "ssim_score: 0.8925957740269607\n",
      "ssim_score: 0.8911452756508274\n",
      "ssim_score: 0.8912470224209037\n",
      "ssim_score: 0.8917143063335472\n",
      "ssim_score: 0.8905072907285465\n",
      "ssim_score: 0.8905817632944665\n",
      "ssim_score: 0.8912283597399213\n",
      "ssim_score: 0.8900072837194984\n",
      "ssim_score: 0.8901813641372763\n",
      "ssim_score: 0.891288174490613\n",
      "ssim_score: 0.8897972214868579\n",
      "ssim_score: 0.8903481193882113\n",
      "ssim_score: 0.8911320559013584\n",
      "ssim_score: 0.8898504805763731\n",
      "ssim_score: 0.8903795038921217\n",
      "ssim_score: 0.8910886500117028\n",
      "ssim_score: 0.8900587306441131\n",
      "ssim_score: 0.890194221999919\n",
      "ssim_score: 0.8911675269031615\n",
      "ssim_score: 0.8898598036471433\n",
      "ssim_score: 0.8902997566913459\n",
      "ssim_score: 0.8911742447732401\n",
      "ssim_score: 0.8898435067240386\n",
      "ssim_score: 0.8904154508447479\n",
      "ssim_score: 0.89090989904934\n",
      "ssim_score: 0.8898836854327157\n",
      "ssim_score: 0.8902007279285955\n",
      "ssim_score: 0.8907412242158476\n",
      "ssim_score: 0.8898560871798132\n",
      "ssim_score: 0.8899962898550833\n",
      "ssim_score: 0.8907208125198872\n",
      "ssim_score: 0.8897645165064372\n",
      "ssim_score: 0.8898256321220704\n",
      "ssim_score: 0.8907715612794508\n",
      "ssim_score: 0.8896019099135472\n",
      "ssim_score: 0.8898608295962117\n",
      "ssim_score: 0.8909107736881278\n",
      "ssim_score: 0.8894938387477561\n",
      "ssim_score: 0.8900055547997782\n",
      "ssim_score: 0.8909509920170103\n",
      "ssim_score: 0.8895199754320475\n",
      "ssim_score: 0.8900255074011936\n",
      "ssim_score: 0.891081019234538\n",
      "ssim_score: 0.889559162076715\n",
      "ssim_score: 0.890023174093692\n",
      "ssim_score: 0.8911809089447945\n",
      "ssim_score: 0.8895778302190241\n",
      "ssim_score: 0.8899744614376841\n",
      "ssim_score: 0.891152482495187\n",
      "ssim_score: 0.8895328513369866\n",
      "ssim_score: 0.8900675571815554\n",
      "ssim_score: 0.8909618908658573\n",
      "ssim_score: 0.8895144808237037\n",
      "ssim_score: 0.890194440818479\n",
      "ssim_score: 0.8908563645134808\n",
      "ssim_score: 0.8895335892318857\n",
      "ssim_score: 0.8902969769396947\n",
      "ssim_score: 0.8907670925072197\n",
      "ssim_score: 0.8896346287387296\n",
      "ssim_score: 0.8902090461389327\n",
      "ssim_score: 0.8905144666025341\n",
      "ssim_score: 0.8897939097806628\n",
      "ssim_score: 0.890075369002236\n",
      "ssim_score: 0.8902507826274311\n",
      "ssim_score: 0.8899175521727678\n",
      "ssim_score: 0.8898088963441071\n",
      "ssim_score: 0.8901442897149361\n",
      "ssim_score: 0.8897680841515553\n",
      "ssim_score: 0.8895734552804001\n",
      "ssim_score: 0.8900823227375408\n",
      "ssim_score: 0.8894174360777161\n",
      "ssim_score: 0.8894096936828256\n",
      "ssim_score: 0.8900311445738541\n",
      "ssim_score: 0.8891922292926848\n",
      "ssim_score: 0.8892726336929436\n",
      "ssim_score: 0.8901194838254695\n",
      "ssim_score: 0.8890605257871197\n",
      "ssim_score: 0.8891565783215143\n",
      "ssim_score: 0.8900910322609606\n",
      "ssim_score: 0.8889503546714489\n",
      "ssim_score: 0.8891619076646039\n",
      "ssim_score: 0.889869609535504\n",
      "ssim_score: 0.8888687628861912\n",
      "ssim_score: 0.8891231036060817\n",
      "ssim_score: 0.8896449017695687\n",
      "ssim_score: 0.8888777195168426\n",
      "ssim_score: 0.8889140728204334\n",
      "ssim_score: 0.8894941389607796\n",
      "ssim_score: 0.8888872485606426\n",
      "ssim_score: 0.8887301436313312\n",
      "ssim_score: 0.8893711997873694\n",
      "ssim_score: 0.8887189124463377\n",
      "ssim_score: 0.8886366177347389\n",
      "ssim_score: 0.8892595198894313\n",
      "ssim_score: 0.8884659436941955\n",
      "ssim_score: 0.888530533767284\n",
      "ssim_score: 0.8891870206394442\n",
      "ssim_score: 0.8883022758328073\n",
      "ssim_score: 0.888414915667766\n",
      "ssim_score: 0.8891854901426887\n",
      "ssim_score: 0.8881525959797365\n",
      "ssim_score: 0.8883373396007037\n",
      "ssim_score: 0.8892212038046405\n",
      "ssim_score: 0.8880068302264821\n",
      "ssim_score: 0.8882675602643897\n",
      "ssim_score: 0.8892107843656899\n",
      "ssim_score: 0.8879050693473803\n",
      "ssim_score: 0.888257274918222\n",
      "ssim_score: 0.8891893235766442\n",
      "ssim_score: 0.8878330483252677\n",
      "ssim_score: 0.8882589756123274\n",
      "ssim_score: 0.8891868098323988\n",
      "ssim_score: 0.8877626609027084\n",
      "ssim_score: 0.8882261300525759\n",
      "ssim_score: 0.8891469792620565\n",
      "ssim_score: 0.8877149803174187\n",
      "ssim_score: 0.8881960473831284\n",
      "ssim_score: 0.8890893172697737\n",
      "ssim_score: 0.8876790053320854\n",
      "ssim_score: 0.8882179174015246\n",
      "ssim_score: 0.8890413955733578\n",
      "ssim_score: 0.8876337055040369\n",
      "ssim_score: 0.8882363383829794\n",
      "ssim_score: 0.8889751575209628\n",
      "ssim_score: 0.8876027644075778\n",
      "ssim_score: 0.8882323439345006\n",
      "ssim_score: 0.8888832742092944\n",
      "ssim_score: 0.8876237892477866\n",
      "ssim_score: 0.8882444772609354\n",
      "ssim_score: 0.8888047996177134\n",
      "ssim_score: 0.8876499570747661\n",
      "ssim_score: 0.8882606404242118\n",
      "ssim_score: 0.8887444924317194\n",
      "ssim_score: 0.8876446797202716\n",
      "ssim_score: 0.8882372391726692\n",
      "ssim_score: 0.8886765030580284\n",
      "ssim_score: 0.8876363323488251\n",
      "ssim_score: 0.8881808166194869\n",
      "ssim_score: 0.8885736598540255\n",
      "ssim_score: 0.8876506868558073\n",
      "ssim_score: 0.888129755436133\n",
      "ssim_score: 0.8884044613250754\n",
      "ssim_score: 0.8876649482776409\n",
      "ssim_score: 0.8880868947222876\n",
      "ssim_score: 0.8881872815365784\n",
      "ssim_score: 0.8876570566066675\n",
      "ssim_score: 0.8880471421029006\n",
      "ssim_score: 0.8879773926954571\n",
      "ssim_score: 0.887639050916913\n",
      "ssim_score: 0.8879909585585642\n",
      "ssim_score: 0.8877915957043547\n",
      "ssim_score: 0.8876296747081829\n",
      "ssim_score: 0.8879125621403845\n",
      "ssim_score: 0.887615979240239\n",
      "ssim_score: 0.8876325297593071\n",
      "ssim_score: 0.8878113445009735\n",
      "ssim_score: 0.8874599393642535\n",
      "ssim_score: 0.8876264455666297\n",
      "ssim_score: 0.8876777757608211\n",
      "ssim_score: 0.8873263524380581\n",
      "ssim_score: 0.8876166433526735\n",
      "ssim_score: 0.8875417302126304\n",
      "ssim_score: 0.8871978526429609\n",
      "ssim_score: 0.8875936545482611\n",
      "ssim_score: 0.8874215208185017\n",
      "ssim_score: 0.8870783621731864\n",
      "ssim_score: 0.8875534983033104\n",
      "ssim_score: 0.8873065001424567\n",
      "ssim_score: 0.886971949279429\n",
      "ssim_score: 0.8874970517534626\n",
      "ssim_score: 0.8871949521041003\n",
      "ssim_score: 0.8868656132473958\n",
      "ssim_score: 0.8873920322388759\n",
      "ssim_score: 0.8870953932612988\n",
      "ssim_score: 0.8867698900442655\n",
      "ssim_score: 0.8872518926289694\n",
      "ssim_score: 0.8869939724119099\n",
      "ssim_score: 0.886685593682065\n",
      "ssim_score: 0.8871250137908893\n",
      "ssim_score: 0.8868959647405618\n",
      "ssim_score: 0.8866109607029742\n",
      "ssim_score: 0.8870111405734693\n",
      "ssim_score: 0.8868047433490792\n",
      "ssim_score: 0.8865430667823464\n",
      "ssim_score: 0.8869086311615646\n",
      "ssim_score: 0.8867170328295717\n",
      "ssim_score: 0.8864745055491298\n",
      "ssim_score: 0.8868036740192414\n",
      "ssim_score: 0.8866329133506491\n",
      "ssim_score: 0.8864107577651416\n",
      "ssim_score: 0.8866973390294685\n",
      "ssim_score: 0.886554428660902\n",
      "ssim_score: 0.8863512363308828\n",
      "ssim_score: 0.8865926762170174\n",
      "ssim_score: 0.8864791856244286\n",
      "ssim_score: 0.8863031752540665\n",
      "ssim_score: 0.8864892995442802\n",
      "ssim_score: 0.8864079039801526\n",
      "ssim_score: 0.8862619461065496\n",
      "ssim_score: 0.8863894474383561\n",
      "ssim_score: 0.8863376417712415\n",
      "ssim_score: 0.8862193133854084\n",
      "ssim_score: 0.8862937813798953\n",
      "ssim_score: 0.8862639949594783\n",
      "ssim_score: 0.8861785441065907\n",
      "ssim_score: 0.8862119600205808\n",
      "ssim_score: 0.8861827111287298\n",
      "ssim_score: 0.8861433989751715\n",
      "ssim_score: 0.8861371487814625\n",
      "ssim_score: 0.8860976218231866\n",
      "ssim_score: 0.8861060434871317\n",
      "ssim_score: 0.8860666090705998\n",
      "ssim_score: 0.886014563489392\n",
      "ssim_score: 0.8860680244516939\n",
      "ssim_score: 0.8860045154009653\n",
      "ssim_score: 0.8859402216893707\n",
      "ssim_score: 0.8860302666352292\n",
      "ssim_score: 0.8859460543892346\n",
      "ssim_score: 0.8858493347016704\n"
     ]
    },
    {
     "name": "stdout",
     "output_type": "stream",
     "text": [
      "ssim_score: 0.8859796272082113\n",
      "ssim_score: 0.8858916051916219\n",
      "ssim_score: 0.8857514700182888\n",
      "ssim_score: 0.8858973264897071\n",
      "ssim_score: 0.8858746525452134\n",
      "ssim_score: 0.8857163374656764\n",
      "ssim_score: 0.8858836625503834\n",
      "\n",
      "\n",
      "\n",
      "best_ssim: 0.8949892798501415\n",
      "best_padding: (10, 0, 55, 395)\n"
     ]
    },
    {
     "data": {
      "image/png": "[encoded data removed]",
      "text/plain": [
       "<Figure size 432x288 with 3 Axes>"
      ]
     },
     "metadata": {
      "needs_background": "light"
     },
     "output_type": "display_data"
    }
   ],
   "source": [
    "img_test_path = r\"C:\\Users\\idank\\final_project\\TestImages\\11030\\SimpleTestCrop\\2.png\"\n",
    "img_src_path = r\"C:\\Users\\idank\\final_project\\OriginalImagesCrop\\2.jpg\"\n",
    "\n",
    "# img_path = r\"C:\\Users\\idank\\Desktop\\profile.jfif\"\n",
    "# img_path2 = r\"C:\\Users\\idank\\Desktop\\profile_resized.jpg\"\n",
    "src_img_obj_padd, best_ssim, best_padding, best_hand_copy_img_obj_resized_ratio_padd = new_ssim(src_img_path=img_src_path, hand_copy_img_path=img_test_path, width_jump=5, height_jump=2)\n",
    "\n",
    "img1 = np.array(src_img_obj_padd)\n",
    "img2 = np.array(best_hand_copy_img_obj_resized_ratio_padd)\n",
    "combine_img = img1 > img2\n",
    "\n",
    "print()\n",
    "print()\n",
    "print()\n",
    "print(\"best_ssim: \" + str(best_ssim))\n",
    "print(\"best_padding: \" + str(best_padding))\n",
    "f, axarr = plt.subplots(1,3)\n",
    "axarr[0].imshow(src_img_obj_padd, cmap='gray', vmin=0, vmax=255)\n",
    "axarr[1].imshow(best_hand_copy_img_obj_resized_ratio_padd, cmap='gray', vmin=0, vmax=255)\n",
    "axarr[2].imshow(cv2.addWeighted(src_img_obj_padd,0.2,best_hand_copy_img_obj_resized_ratio_padd,0.8,0))\n",
    "\n",
    "plt.show()"
   ]
  },
  {
   "cell_type": "code",
   "execution_count": null,
   "id": "2dc8033d",
   "metadata": {},
   "outputs": [],
   "source": []
  },
  {
   "cell_type": "code",
   "execution_count": null,
   "id": "ac76b1bc",
   "metadata": {},
   "outputs": [],
   "source": []
  },
  {
   "cell_type": "code",
   "execution_count": 26,
   "id": "1525aa3c",
   "metadata": {},
   "outputs": [
    {
     "ename": "AttributeError",
     "evalue": "module 'cv2.cv2' has no attribute 'ximgproc'",
     "output_type": "error",
     "traceback": [
      "\u001b[1;31m---------------------------------------------------------------------------\u001b[0m",
      "\u001b[1;31mAttributeError\u001b[0m                            Traceback (most recent call last)",
      "Input \u001b[1;32mIn [26]\u001b[0m, in \u001b[0;36m<cell line: 12>\u001b[1;34m()\u001b[0m\n\u001b[0;32m     10\u001b[0m img_src_path \u001b[38;5;241m=\u001b[39m \u001b[38;5;124mr\u001b[39m\u001b[38;5;124m\"\u001b[39m\u001b[38;5;124mC:\u001b[39m\u001b[38;5;124m\\\u001b[39m\u001b[38;5;124mUsers\u001b[39m\u001b[38;5;124m\\\u001b[39m\u001b[38;5;124midank\u001b[39m\u001b[38;5;124m\\\u001b[39m\u001b[38;5;124mfinal_project\u001b[39m\u001b[38;5;124m\\\u001b[39m\u001b[38;5;124mOriginalImagesCrop\u001b[39m\u001b[38;5;124m\\\u001b[39m\u001b[38;5;124m2.jpg\u001b[39m\u001b[38;5;124m\"\u001b[39m\n\u001b[0;32m     11\u001b[0m src_img_obj \u001b[38;5;241m=\u001b[39m cv2\u001b[38;5;241m.\u001b[39mimread(img_src_path, \u001b[38;5;241m0\u001b[39m)\n\u001b[1;32m---> 12\u001b[0m \u001b[43mgetImageThinLines\u001b[49m\u001b[43m(\u001b[49m\u001b[43msrc_img_obj\u001b[49m\u001b[43m)\u001b[49m\n",
      "Input \u001b[1;32mIn [26]\u001b[0m, in \u001b[0;36mgetImageThinLines\u001b[1;34m(image)\u001b[0m\n\u001b[0;32m      1\u001b[0m \u001b[38;5;28;01mdef\u001b[39;00m \u001b[38;5;21mgetImageThinLines\u001b[39m(image):\n\u001b[1;32m----> 2\u001b[0m     ocv \u001b[38;5;241m=\u001b[39m \u001b[43mcv2\u001b[49m\u001b[38;5;241;43m.\u001b[39;49m\u001b[43mximgproc\u001b[49m\u001b[38;5;241m.\u001b[39mthinning(image,\u001b[38;5;241m0\u001b[39m)\n\u001b[0;32m      3\u001b[0m     f, axarr \u001b[38;5;241m=\u001b[39m plt\u001b[38;5;241m.\u001b[39msubplots(\u001b[38;5;241m1\u001b[39m,\u001b[38;5;241m3\u001b[39m)\n\u001b[0;32m      4\u001b[0m     axarr[\u001b[38;5;241m0\u001b[39m]\u001b[38;5;241m.\u001b[39mimshow(image, cmap\u001b[38;5;241m=\u001b[39m\u001b[38;5;124m'\u001b[39m\u001b[38;5;124mgray\u001b[39m\u001b[38;5;124m'\u001b[39m, vmin\u001b[38;5;241m=\u001b[39m\u001b[38;5;241m0\u001b[39m, vmax\u001b[38;5;241m=\u001b[39m\u001b[38;5;241m255\u001b[39m)\n",
      "\u001b[1;31mAttributeError\u001b[0m: module 'cv2.cv2' has no attribute 'ximgproc'"
     ]
    }
   ],
   "source": [
    "def getImageThinLines(image):\n",
    "    ocv = cv2.ximgproc.thinning(image,0)\n",
    "    f, axarr = plt.subplots(1,3)\n",
    "    axarr[0].imshow(image, cmap='gray', vmin=0, vmax=255)\n",
    "    axarr[1].imshow(ocv, cmap='gray', vmin=0, vmax=255)\n",
    "    axarr[2].imshow(cv2.addWeighted(image,0.2,ocv,0.8,0))\n",
    "    plt.show()\n",
    "    return ocv\n",
    "\n",
    "img_src_path = r\"C:\\Users\\idank\\final_project\\OriginalImagesCrop\\2.jpg\"\n",
    "src_img_obj = cv2.imread(img_src_path, 0)\n",
    "getImageThinLines(src_img_obj)"
   ]
  },
  {
   "cell_type": "code",
   "execution_count": null,
   "id": "aa746737",
   "metadata": {},
   "outputs": [],
   "source": []
  },
  {
   "cell_type": "code",
   "execution_count": null,
   "id": "6c6362f8",
   "metadata": {},
   "outputs": [],
   "source": []
  },
  {
   "cell_type": "code",
   "execution_count": null,
   "id": "906ff6d2",
   "metadata": {},
   "outputs": [],
   "source": [
    "def hu_moments_similarity(contour1, contour2):\n",
    "    hu1 = cv2.HuMoments(cv2.moments(contour1)).flatten()\n",
    "    hu2 = cv2.HuMoments(cv2.moments(contour2)).flatten()\n",
    "    hu1 = np.sign(hu1) * np.log10(np.abs(hu1))\n",
    "    hu2 = np.sign(hu2) * np.log10(np.abs(hu2))\n",
    "    similarity = 1 - np.linalg.norm(hu1 - hu2) / np.linalg.norm(hu1 + hu2)\n",
    "    return similarity\n",
    "\n",
    "def shape_context_similarity(contour1, contour2):\n",
    "    sd = cv2.createShapeContextDistanceExtractor()\n",
    "    similarity = 1 - sd.computeDistance(contour1, contour2)\n",
    "    return similarity\n",
    "\n",
    "def image_moments_similarity(contour1, contour2):\n",
    "    moments1 = cv2.moments(contour1)\n",
    "    moments2 = cv2.moments(contour2)\n",
    "    similarity = 1 - np.linalg.norm(np.array(list(moments1.values())) - np.array(list(moments2.values()))) / np.linalg.norm(np.array(list(moments1.values())) + np.array(list(moments2.values())))\n",
    "    return similarity\n",
    "\n",
    "# def main():\n",
    "#     image1 = cv2.imread(\"image1.png\", cv2.IMREAD_GRAYSCALE)\n",
    "#     image2 = cv2.imread(\"image2.png\", cv2.IMREAD_GRAYSCALE)\n",
    "\n",
    "#     contour1 = preprocess_image(image1)\n",
    "#     contour2 = preprocess_image(image2)\n",
    "\n",
    "#     hu_similarity = hu_moments_similarity(contour1, contour2)\n",
    "#     print(f\"Hu Moments Similarity: {hu_similarity}\")\n",
    "\n",
    "#     shape_context_similarity_score = shape_context_similarity(contour1, contour2)\n",
    "#     print(f\"Shape Context Similarity: {shape_context_similarity_score}\")\n",
    "\n",
    "#     image_moments_similarity_score = image_moments_similarity(contour1, contour2)\n",
    "#     print(f\"Image Moments Similarity: {image_moments_similarity_score}\")\n",
    "\n",
    "# if __name__ == \"__main__\":\n",
    "#     main()"
   ]
  },
  {
   "cell_type": "code",
   "execution_count": null,
   "id": "ff3aad83",
   "metadata": {},
   "outputs": [],
   "source": []
  }
 ],
 "metadata": {
  "kernelspec": {
   "display_name": "Python 3 (ipykernel)",
   "language": "python",
   "name": "python3"
  },
  "language_info": {
   "codemirror_mode": {
    "name": "ipython",
    "version": 3
   },
   "file_extension": ".py",
   "mimetype": "text/x-python",
   "name": "python",
   "nbconvert_exporter": "python",
   "pygments_lexer": "ipython3",
   "version": "3.8.10"
  }
 },
 "nbformat": 4,
 "nbformat_minor": 5
}
