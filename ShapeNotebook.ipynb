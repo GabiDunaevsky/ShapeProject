{
 "cells": [
  {
   "cell_type": "markdown",
   "id": "4dfc25d6",
   "metadata": {},
   "source": [
    "# FINAL PROJECT SHAPES"
   ]
  },
  {
   "cell_type": "code",
   "execution_count": 6,
   "id": "8bfdf3a6",
   "metadata": {},
   "outputs": [],
   "source": [
    "from skimage.metrics import structural_similarity as ssim\n",
    "import matplotlib.pyplot as plt\n",
    "import cv2\n",
    "import numpy as np"
   ]
  },
  {
   "cell_type": "markdown",
   "id": "3c86302a",
   "metadata": {},
   "source": [
    "# Preparing the images for the assimilation phase to the algorithm"
   ]
  },
  {
   "cell_type": "markdown",
   "id": "559f176f",
   "metadata": {},
   "source": [
    "### At this stage we process all the images according to the correct sizes and crop them in order to implement the SSIM algorithm"
   ]
  },
  {
   "cell_type": "code",
   "execution_count": 7,
   "id": "9e24b946",
   "metadata": {},
   "outputs": [],
   "source": [
    "# imports\n",
    "from PIL import Image\n",
    "import numpy as np\n",
    "import os\n",
    "import glob\n",
    "\n",
    "# Path to the root folder\n",
    "root_folder = 'C:\\\\Users\\\\koazg\\\\OneDrive\\\\Desktop\\\\GABI'\n",
    "\n",
    "# Loop over each folder in the root folder that has subfolders\n",
    "for entry in os.scandir(root_folder):\n",
    "    if entry.is_dir():\n",
    "        # Check if the current folder contains any subfolders\n",
    "        subfolders = [subentry for subentry in os.scandir(entry.path) if subentry.is_dir()]\n",
    "        if subfolders:\n",
    "            # Loop over each subfolder that has a 'SimpleTest' subfolder\n",
    "            for subentry in subfolders:\n",
    "                simple_test_folder = os.path.join(subentry.path, subentry.path)\n",
    "\n",
    "                # Create the output folder in the parent directory of the 'SimpleTest' folder\n",
    "                output_folder = os.path.join(os.path.dirname(simple_test_folder), subentry.path+\"Crop\")\n",
    "                if not os.path.exists(output_folder):\n",
    "                    os.makedirs(output_folder)\n",
    "\n",
    "                # Find all PNG files in the 'SimpleTest' folder\n",
    "                png_files = sorted(glob.glob(os.path.join(simple_test_folder, '*.png')))\n",
    "\n",
    "                # Loop over each PNG file and crop it\n",
    "                for i, input_path in enumerate(png_files):\n",
    "                    #print(input_path)\n",
    "                    image = Image.open(input_path)\n",
    "                    image.load()\n",
    "                    image = image.crop((0, 219, 1365, 860))\n",
    "                    image_data = np.asarray(image)\n",
    "                    image_data_inv = 255 - image_data\n",
    "                    image_data_bw = image_data_inv.max(axis=2)\n",
    "                    non_empty_columns = np.where(image_data_bw.max(axis=0) > 0)[0]\n",
    "                    non_empty_rows = np.where(image_data_bw.max(axis=1) > 0)[0]\n",
    "                    if len(non_empty_columns) == 0 or len(non_empty_rows) == 0:\n",
    "                        cropBox = (0, image_data.shape[0]-1, 0, image_data.shape[1]-1)\n",
    "                    else:\n",
    "                        cropBox = (min(non_empty_rows), max(non_empty_rows), min(non_empty_columns), max(non_empty_columns))\n",
    "                    image_data_new = image_data[cropBox[0]:cropBox[1]+1, cropBox[2]:cropBox[3]+1, :]\n",
    "                    new_image = Image.fromarray(image_data_new)\n",
    "                    output_path = os.path.join(output_folder, os.path.basename(input_path))\n",
    "                    new_image.save(output_path)\n"
   ]
  },
  {
   "cell_type": "markdown",
   "id": "13d72788",
   "metadata": {},
   "source": [
    "# Handling the original images"
   ]
  },
  {
   "cell_type": "markdown",
   "id": "ba89b9eb",
   "metadata": {},
   "source": [
    "#### Insert the OriginalImage Folder into the Root Folder of the project "
   ]
  },
  {
   "cell_type": "code",
   "execution_count": 8,
   "id": "0018d1ed",
   "metadata": {},
   "outputs": [],
   "source": [
    "import os\n",
    "import numpy as np\n",
    "from PIL import Image\n",
    "\n",
    "# Path to the root folder\n",
    "root_folder = 'C:\\\\Users\\\\koazg\\\\OneDrive\\\\Desktop\\\\GABI'\n",
    "input_folder = os.path.join(root_folder, 'OriginalImages')\n",
    "output_folder = os.path.join(root_folder, 'OriginalImagesCrop')\n",
    "\n",
    "if not os.path.exists(output_folder):\n",
    "    os.makedirs(output_folder)\n",
    "\n",
    "png_files = sorted([f for f in os.listdir(input_folder) if f.endswith('.jpg')])\n",
    "\n",
    "for i, input_path in enumerate(png_files):\n",
    "    input_path = os.path.join(input_folder, input_path)\n",
    "    image = Image.open(input_path)\n",
    "    image.load()\n",
    "    #image = image.crop((0, 219, 1365, 860))\n",
    "    image_data = np.asarray(image)\n",
    "    image_data_inv = 255 - image_data\n",
    "    image_data_bw = image_data_inv.max(axis=2)\n",
    "    non_empty_columns = np.where(image_data_bw.max(axis=0) > 0)[0]\n",
    "    non_empty_rows = np.where(image_data_bw.max(axis=1) > 0)[0]\n",
    "    if len(non_empty_columns) == 0 or len(non_empty_rows) == 0:\n",
    "        cropBox = (0, image_data.shape[0]-1, 0, image_data.shape[1]-1)\n",
    "    else:\n",
    "        cropBox = (min(non_empty_rows), max(non_empty_rows), min(non_empty_columns), max(non_empty_columns))\n",
    "    image_data_new = image_data[cropBox[0]:cropBox[1]+1, cropBox[2]:cropBox[3]+1, :]\n",
    "    new_image = Image.fromarray(image_data_new)\n",
    "    output_path = os.path.join(output_folder, os.path.basename(input_path))\n",
    "    new_image.save(output_path)\n"
   ]
  },
  {
   "cell_type": "code",
   "execution_count": null,
   "id": "78a88ed8",
   "metadata": {},
   "outputs": [],
   "source": []
  },
  {
   "cell_type": "code",
   "execution_count": null,
   "id": "d8e4029d",
   "metadata": {},
   "outputs": [],
   "source": []
  },
  {
   "cell_type": "code",
   "execution_count": null,
   "id": "1d59492e",
   "metadata": {},
   "outputs": [],
   "source": []
  },
  {
   "cell_type": "markdown",
   "id": "b2e31b55",
   "metadata": {},
   "source": [
    "# SSIM"
   ]
  },
  {
   "cell_type": "code",
   "execution_count": 6,
   "id": "57231f40",
   "metadata": {},
   "outputs": [],
   "source": [
    "def s(img1, img2):\n",
    "    # Convert images to grayscale\n",
    "    img1 = cv2.cvtColor(img1, cv2.COLOR_BGR2GRAY)\n",
    "    img2 = cv2.cvtColor(img2, cv2.COLOR_BGR2GRAY)\n",
    "\n",
    "    # Compute SSIM\n",
    "    return ssim(img1, img2)"
   ]
  },
  {
   "cell_type": "code",
   "execution_count": 7,
   "id": "d7958e7f",
   "metadata": {},
   "outputs": [
    {
     "name": "stdout",
     "output_type": "stream",
     "text": [
      "Similarity: 0.994390970222111\n"
     ]
    }
   ],
   "source": [
    "# Read in images\n",
    "img1 = cv2.imread('C:\\\\Users\\\\koazg\\\\OneDrive\\\\Desktop\\\\FINALPROJ\\\\11031\\\\SimpleTest\\\\1.png')\n",
    "img2 = cv2.imread('C:\\\\Users\\\\koazg\\\\OneDrive\\\\Desktop\\\\FINALPROJ\\\\11030\\\\SimpleTest\\\\1.png')\n",
    "img1 = img1[219:860,:1365]\n",
    "img2 = img2[219:860,:1365]\n",
    "\n",
    "# Compute SSIM\n",
    "similarity = s(img1, img2)\n",
    "\n",
    "print(f'Similarity: {similarity}')"
   ]
  },
  {
   "cell_type": "markdown",
   "id": "79a8986a",
   "metadata": {},
   "source": [
    "# Shape matching algorithm using Oriented FAST and Rotated BRIEF"
   ]
  },
  {
   "cell_type": "code",
   "execution_count": 8,
   "id": "f49a9dd2",
   "metadata": {},
   "outputs": [
    {
     "name": "stdout",
     "output_type": "stream",
     "text": [
      "Similarity: 0.5632183908045977\n"
     ]
    }
   ],
   "source": [
    "# Read in images\n",
    "img1 = cv2.imread('C:\\\\Users\\\\koazg\\\\OneDrive\\\\Desktop\\\\FINALPROJ\\\\11031\\\\SimpleTest\\\\1.png', 0)\n",
    "img2 = cv2.imread('C:\\\\Users\\\\koazg\\\\OneDrive\\\\Desktop\\\\FINALPROJ\\\\11030\\\\SimpleTest\\\\1.png', 0)\n",
    "img1 = img1[219:860,:1365]\n",
    "img2 = img2[219:860,:1365]\n",
    "# Detect keypoints and compute descriptor vectors using ORB\n",
    "orb = cv2.ORB_create()\n",
    "keypoints1, descriptors1 = orb.detectAndCompute(img1, None)\n",
    "keypoints2, descriptors2 = orb.detectAndCompute(img2, None)\n",
    "\n",
    "# Match descriptor vectors using brute-force matching\n",
    "bf = cv2.BFMatcher(cv2.NORM_HAMMING, crossCheck=True)\n",
    "matches = bf.match(descriptors1, descriptors2)\n",
    "\n",
    "# Sort matches by distance\n",
    "matches = sorted(matches, key=lambda x: x.distance)\n",
    "\n",
    "# Compute the number of good matches as a measure of similarity\n",
    "similarity = len(matches) / len(keypoints1)\n",
    "\n",
    "print(f'Similarity: {similarity}')"
   ]
  },
  {
   "cell_type": "code",
   "execution_count": 9,
   "id": "9130e39e",
   "metadata": {},
   "outputs": [
    {
     "data": {
      "text/plain": [
       "<matplotlib.image.AxesImage at 0x21aaec99f40>"
      ]
     },
     "execution_count": 9,
     "metadata": {},
     "output_type": "execute_result"
    },
    {
     "data": {
      "image/png": "[encoded data removed]",
      "text/plain": [
       "<Figure size 640x480 with 2 Axes>"
      ]
     },
     "metadata": {},
     "output_type": "display_data"
    }
   ],
   "source": [
    "fig, axs = plt.subplots(2)\n",
    "fig.set_facecolor(\"w\")\n",
    "axs[0].imshow(img1)\n",
    "axs[1].imshow(img2)"
   ]
  },
  {
   "cell_type": "markdown",
   "id": "f96ed144",
   "metadata": {},
   "source": [
    "# Shape descriptor"
   ]
  },
  {
   "cell_type": "code",
   "execution_count": 10,
   "id": "38cc0dd4",
   "metadata": {},
   "outputs": [],
   "source": [
    "def shape_descriptor(contour):\n",
    "    # Compute convex hull\n",
    "    hull = cv2.convexHull(contour)\n",
    "\n",
    "    # Check if hull is valid\n",
    "    if len(hull) > 2:\n",
    "        # Compute defects\n",
    "        defects = cv2.convexityDefects(contour, hull)\n",
    "\n",
    "        # Extract defects as an array of points\n",
    "        points = []\n",
    "        for i in range(defects.shape[0]):\n",
    "            s, e, f, d = defects[i, 0]\n",
    "            start = tuple(contour[s][0])\n",
    "            end = tuple(contour[e][0])\n",
    "            far = tuple(contour[f][0])\n",
    "            points.append((start, end, far))\n",
    "\n",
    "        # Compute shape descriptor as a concatenation of the coordinates of the defects\n",
    "        descriptor = np.concatenate([np.array(point).flatten() for point in points])\n",
    "    else:\n",
    "        # If hull is not valid, return an empty descriptor\n",
    "        descriptor = np.array([])\n",
    "\n",
    "    return descriptor"
   ]
  },
  {
   "cell_type": "code",
   "execution_count": 11,
   "id": "2080254f",
   "metadata": {},
   "outputs": [
    {
     "ename": "IndexError",
     "evalue": "too many indices for array: array is 2-dimensional, but 3 were indexed",
     "output_type": "error",
     "traceback": [
      "\u001b[1;31m---------------------------------------------------------------------------\u001b[0m",
      "\u001b[1;31mIndexError\u001b[0m                                Traceback (most recent call last)",
      "\u001b[1;32m~\\AppData\\Local\\Temp\\ipykernel_15512\\3173982802.py\u001b[0m in \u001b[0;36m<module>\u001b[1;34m\u001b[0m\n\u001b[0;32m      2\u001b[0m \u001b[0mimg1\u001b[0m \u001b[1;33m=\u001b[0m \u001b[0mcv2\u001b[0m\u001b[1;33m.\u001b[0m\u001b[0mimread\u001b[0m\u001b[1;33m(\u001b[0m\u001b[1;34m'C:\\\\Users\\\\koazg\\\\OneDrive\\\\Desktop\\\\FINALPROJ\\\\11031\\\\SimpleTest\\\\1.png'\u001b[0m\u001b[1;33m,\u001b[0m \u001b[1;36m0\u001b[0m\u001b[1;33m)\u001b[0m\u001b[1;33m\u001b[0m\u001b[1;33m\u001b[0m\u001b[0m\n\u001b[0;32m      3\u001b[0m \u001b[0mimg2\u001b[0m \u001b[1;33m=\u001b[0m \u001b[0mcv2\u001b[0m\u001b[1;33m.\u001b[0m\u001b[0mimread\u001b[0m\u001b[1;33m(\u001b[0m\u001b[1;34m'C:\\\\Users\\\\koazg\\\\OneDrive\\\\Desktop\\\\FINALPROJ\\\\11030\\\\SimpleTest\\\\1.png'\u001b[0m\u001b[1;33m,\u001b[0m \u001b[1;36m0\u001b[0m\u001b[1;33m)\u001b[0m\u001b[1;33m\u001b[0m\u001b[1;33m\u001b[0m\u001b[0m\n\u001b[1;32m----> 4\u001b[1;33m \u001b[0mimg1\u001b[0m \u001b[1;33m=\u001b[0m \u001b[0mimg1\u001b[0m\u001b[1;33m[\u001b[0m\u001b[1;36m219\u001b[0m\u001b[1;33m:\u001b[0m\u001b[1;36m860\u001b[0m\u001b[1;33m,\u001b[0m\u001b[1;33m:\u001b[0m\u001b[1;36m1365\u001b[0m\u001b[1;33m,\u001b[0m\u001b[1;33m:\u001b[0m\u001b[1;33m]\u001b[0m\u001b[1;33m\u001b[0m\u001b[1;33m\u001b[0m\u001b[0m\n\u001b[0m\u001b[0;32m      5\u001b[0m \u001b[0mimg2\u001b[0m \u001b[1;33m=\u001b[0m \u001b[0mimg2\u001b[0m\u001b[1;33m[\u001b[0m\u001b[1;36m219\u001b[0m\u001b[1;33m:\u001b[0m\u001b[1;36m860\u001b[0m\u001b[1;33m,\u001b[0m\u001b[1;33m:\u001b[0m\u001b[1;36m1365\u001b[0m\u001b[1;33m,\u001b[0m\u001b[1;33m:\u001b[0m\u001b[1;33m]\u001b[0m\u001b[1;33m\u001b[0m\u001b[1;33m\u001b[0m\u001b[0m\n\u001b[0;32m      6\u001b[0m \u001b[1;33m\u001b[0m\u001b[0m\n",
      "\u001b[1;31mIndexError\u001b[0m: too many indices for array: array is 2-dimensional, but 3 were indexed"
     ]
    }
   ],
   "source": [
    "# Read in images\n",
    "img1 = cv2.imread('C:\\\\Users\\\\koazg\\\\OneDrive\\\\Desktop\\\\FINALPROJ\\\\11031\\\\SimpleTest\\\\1.png', 0)\n",
    "img2 = cv2.imread('C:\\\\Users\\\\koazg\\\\OneDrive\\\\Desktop\\\\FINALPROJ\\\\11030\\\\SimpleTest\\\\1.png', 0)\n",
    "img1 = img1[219:860,:1365,:]\n",
    "img2 = img2[219:860,:1365,:]\n",
    "\n",
    "# Threshold images to create binary shapes\n",
    "_, img1 = cv2.threshold(img1, 128, 255, cv2.THRESH_BINARY)\n",
    "_, img2 = cv2.threshold(img2, 128, 255, cv2.THRESH_BINARY)\n",
    "\n",
    "# Find contours in images\n",
    "contours1, _ = cv2.findContours(img1, cv2.RETR_EXTERNAL, cv2.CHAIN_APPROX_NONE)\n",
    "contours2, _ = cv2.findContours(img2, cv2.RETR_EXTERNAL, cv2.CHAIN_APPROX_NONE)\n",
    "\n",
    "# Compute shape descriptors for each shape\n",
    "descriptor1 = shape_descriptor(contours1[0])\n",
    "descriptor2 = shape_descriptor(contours2[0])\n",
    "\n",
    "# Calculate Euclidean distance between shape descriptors as a measure of similarity\n",
    "similarity = np.linalg.norm(descriptor1 - descriptor2)\n",
    "\n",
    "print(f'Similarity: {similarity}')"
   ]
  },
  {
   "cell_type": "code",
   "execution_count": null,
   "id": "41af3de6",
   "metadata": {},
   "outputs": [],
   "source": []
  },
  {
   "cell_type": "code",
   "execution_count": null,
   "id": "4c285da5",
   "metadata": {},
   "outputs": [],
   "source": []
  }
 ],
 "metadata": {
  "kernelspec": {
   "display_name": "Python 3 (ipykernel)",
   "language": "python",
   "name": "python3"
  },
  "language_info": {
   "codemirror_mode": {
    "name": "ipython",
    "version": 3
   },
   "file_extension": ".py",
   "mimetype": "text/x-python",
   "name": "python",
   "nbconvert_exporter": "python",
   "pygments_lexer": "ipython3",
   "version": "3.9.13"
  }
 },
 "nbformat": 4,
 "nbformat_minor": 5
}
